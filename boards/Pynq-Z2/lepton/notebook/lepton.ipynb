{
 "cells": [
  {
   "cell_type": "markdown",
   "metadata": {},
   "source": [
    "# Pull in all of the necessary packafes and libraries"
   ]
  },
  {
   "cell_type": "code",
   "execution_count": 2,
   "metadata": {},
   "outputs": [],
   "source": [
    "from pynq import Overlay\n",
    "from pynq import MMIO\n",
    "import matplotlib.pyplot as plt\n",
    "import scipy.ndimage\n",
    "import matplotlib.image as mpimg\n",
    "import numpy as np\n",
    "import cv2\n",
    "from PIL import Image\n",
    "from smbus2 import SMBus, i2c_msg\n",
    "from pynq.ps import Clocks"
   ]
  },
  {
   "cell_type": "markdown",
   "metadata": {},
   "source": [
    "# Load in the overlay"
   ]
  },
  {
   "cell_type": "code",
   "execution_count": 5,
   "metadata": {},
   "outputs": [],
   "source": [
    "overlay = Overlay(\"/usr/local/lib/python3.6/dist-packages/lepton/bitstream/lepton.bit\")"
   ]
  },
  {
   "cell_type": "markdown",
   "metadata": {},
   "source": [
    "Detect the I2C - address we are looking for with the FLIR Lepton is 2A"
   ]
  },
  {
   "cell_type": "code",
   "execution_count": 6,
   "metadata": {},
   "outputs": [
    {
     "name": "stdout",
     "output_type": "stream",
     "text": [
      "i2c-1\ti2c       \tCadence I2C at e0005000         \tI2C adapter\r\n",
      "i2c-0\ti2c       \tCadence I2C at e0004000         \tI2C adapter\r\n"
     ]
    }
   ],
   "source": [
    "!i2cdetect -l"
   ]
  },
  {
   "cell_type": "code",
   "execution_count": 7,
   "metadata": {},
   "outputs": [
    {
     "name": "stdout",
     "output_type": "stream",
     "text": [
      "     0  1  2  3  4  5  6  7  8  9  a  b  c  d  e  f\n",
      "00:          -- -- -- -- -- -- -- -- -- -- -- -- -- \n",
      "10: -- -- -- -- -- -- -- -- -- -- -- -- -- -- -- -- \n",
      "20: -- -- -- -- -- -- -- -- -- -- 2a -- -- -- -- -- \n",
      "30: -- -- -- -- -- -- -- -- -- -- -- -- -- -- -- -- \n",
      "40: -- -- -- -- -- -- -- -- -- -- -- -- -- -- -- -- \n",
      "50: -- -- -- -- -- -- -- -- -- -- -- -- -- -- -- -- \n",
      "60: -- -- -- -- -- -- -- -- -- -- -- -- -- -- -- -- \n",
      "70: -- -- -- -- -- -- -- --                         \n"
     ]
    }
   ],
   "source": [
    "!i2cdetect -r -y 0"
   ]
  },
  {
   "cell_type": "markdown",
   "metadata": {},
   "source": [
    "Check the clock is 4 MHz"
   ]
  },
  {
   "cell_type": "code",
   "execution_count": 8,
   "metadata": {},
   "outputs": [
    {
     "data": {
      "text/plain": [
       "4.0"
      ]
     },
     "execution_count": 8,
     "metadata": {},
     "output_type": "execute_result"
    }
   ],
   "source": [
    "Clocks.fclk0_mhz"
   ]
  },
  {
   "cell_type": "markdown",
   "metadata": {},
   "source": [
    "# Configure the device, turn on the AGC "
   ]
  },
  {
   "cell_type": "code",
   "execution_count": 9,
   "metadata": {},
   "outputs": [],
   "source": [
    "i2c_bus = SMBus(0)\n",
    "Sensor_addr = 0x2a"
   ]
  },
  {
   "cell_type": "code",
   "execution_count": 10,
   "metadata": {},
   "outputs": [],
   "source": [
    "write = i2c_msg.write(Sensor_addr, [0x00, 0x02])\n",
    "read = i2c_msg.read(Sensor_addr, 2)\n",
    "with SMBus(0) as bus:\n",
    "    i2c_bus.i2c_rdwr(write, read)"
   ]
  },
  {
   "cell_type": "code",
   "execution_count": 11,
   "metadata": {},
   "outputs": [],
   "source": [
    "write = i2c_msg.write(Sensor_addr, [0x00, 0x08,0x00,0x01])\n",
    "with SMBus(0) as bus:\n",
    "    i2c_bus.i2c_rdwr(write)"
   ]
  },
  {
   "cell_type": "code",
   "execution_count": 12,
   "metadata": {},
   "outputs": [],
   "source": [
    "write = i2c_msg.write(Sensor_addr, [0x00, 0x0a,0x00,0x00])\n",
    "with SMBus(0) as bus:\n",
    "    i2c_bus.i2c_rdwr(write)"
   ]
  },
  {
   "cell_type": "code",
   "execution_count": 13,
   "metadata": {},
   "outputs": [],
   "source": [
    "write = i2c_msg.write(Sensor_addr, [0x00, 0x06,0x00,0x02])\n",
    "with SMBus(0) as bus:\n",
    "    i2c_bus.i2c_rdwr(write)"
   ]
  },
  {
   "cell_type": "code",
   "execution_count": 14,
   "metadata": {},
   "outputs": [],
   "source": [
    "write = i2c_msg.write(Sensor_addr, [0x00, 0x04,0x01,0x01])\n",
    "with SMBus(0) as bus:\n",
    "    i2c_bus.i2c_rdwr(write)"
   ]
  },
  {
   "cell_type": "code",
   "execution_count": 15,
   "metadata": {},
   "outputs": [],
   "source": [
    "write = i2c_msg.write(Sensor_addr, [0x00, 0x04,0x01,0x00])\n",
    "read = i2c_msg.read(Sensor_addr, 4)\n",
    "with SMBus(0) as bus:\n",
    "    i2c_bus.i2c_rdwr(write, read)"
   ]
  },
  {
   "cell_type": "code",
   "execution_count": 16,
   "metadata": {},
   "outputs": [
    {
     "data": {
      "text/plain": [
       "[0, 4, 0, 1]"
      ]
     },
     "execution_count": 16,
     "metadata": {},
     "output_type": "execute_result"
    }
   ],
   "source": [
    "data = list(read)\n",
    "data"
   ]
  },
  {
   "cell_type": "code",
   "execution_count": 17,
   "metadata": {},
   "outputs": [],
   "source": [
    "write = i2c_msg.write(Sensor_addr, [0x00, 0x04,0x02,0x42])\n",
    "with SMBus(0) as bus:\n",
    "    i2c_bus.i2c_rdwr(write)"
   ]
  },
  {
   "cell_type": "code",
   "execution_count": 18,
   "metadata": {},
   "outputs": [
    {
     "data": {
      "text/plain": [
       "[0, 6]"
      ]
     },
     "execution_count": 18,
     "metadata": {},
     "output_type": "execute_result"
    }
   ],
   "source": [
    "write = i2c_msg.write(Sensor_addr, [0x00, 0x02])\n",
    "read = i2c_msg.read(Sensor_addr, 2)\n",
    "with SMBus(0) as bus:\n",
    "    i2c_bus.i2c_rdwr(write, read)\n",
    "data = list(read)\n",
    "data"
   ]
  },
  {
   "cell_type": "markdown",
   "metadata": {},
   "source": [
    "Set up the GPIO interface - able to remove reset"
   ]
  },
  {
   "cell_type": "code",
   "execution_count": 29,
   "metadata": {},
   "outputs": [],
   "source": [
    "gpio = overlay.axi_gpio_0 \n",
    "gpio.write(0x0,0x1)"
   ]
  },
  {
   "cell_type": "markdown",
   "metadata": {},
   "source": [
    "Configure the BRAM Interface "
   ]
  },
  {
   "cell_type": "code",
   "execution_count": 30,
   "metadata": {},
   "outputs": [],
   "source": [
    "bram  = overlay.ip_dict['axi_bram_ctrl_0']\n",
    "IP_BASE_ADDRESS = bram['phys_addr']\n",
    "IP_ADDRESS_RNGE = bram['addr_range']\n",
    "bram = MMIO(IP_BASE_ADDRESS, IP_ADDRESS_RNGE)"
   ]
  },
  {
   "cell_type": "code",
   "execution_count": 31,
   "metadata": {},
   "outputs": [
    {
     "name": "stdout",
     "output_type": "stream",
     "text": [
      "0x40000000\n",
      "32768\n"
     ]
    }
   ],
   "source": [
    "print(hex(IP_BASE_ADDRESS))\n",
    "print(IP_ADDRESS_RNGE)"
   ]
  },
  {
   "cell_type": "markdown",
   "metadata": {},
   "source": [
    "Clear the reset and read out the image values"
   ]
  },
  {
   "cell_type": "code",
   "execution_count": 35,
   "metadata": {},
   "outputs": [],
   "source": [
    "addr = 0\n",
    "data = []\n",
    "gpio.write(0x0,0x0)\n",
    "for x in range(4800):\n",
    "    data.append(bram.read(addr))\n",
    "    addr = addr + 4"
   ]
  },
  {
   "cell_type": "markdown",
   "metadata": {},
   "source": [
    "Format the 1D pixel array into a 2D pixel array"
   ]
  },
  {
   "cell_type": "code",
   "execution_count": 36,
   "metadata": {},
   "outputs": [
    {
     "data": {
      "text/plain": [
       "array([[  0,  60,  63, ...,  72,  74,  74],\n",
       "       [ 71,  62,  64, ...,  70,  72,  72],\n",
       "       [ 75,  62,  61, ...,  71,  70,  71],\n",
       "       ..., \n",
       "       [160,  48,  49, ..., 169, 168, 162],\n",
       "       [164,  44,  53, ..., 168, 166, 163],\n",
       "       [165,  54,  53, ..., 170, 167, 164]])"
      ]
     },
     "execution_count": 36,
     "metadata": {},
     "output_type": "execute_result"
    }
   ],
   "source": [
    "pixels = np.array(data)\n",
    "pixels  = np.reshape(pixels,(60, 80))\n",
    "pixels"
   ]
  },
  {
   "cell_type": "markdown",
   "metadata": {},
   "source": [
    "Display the image - if image looks off try re running capture "
   ]
  },
  {
   "cell_type": "code",
   "execution_count": 37,
   "metadata": {},
   "outputs": [
    {
     "data": {
      "image/png": "[encoded data removed]",
      "text/plain": [
       "<matplotlib.figure.Figure at 0xa43929f0>"
      ]
     },
     "metadata": {},
     "output_type": "display_data"
    }
   ],
   "source": [
    "plt.imshow(pixels,cmap='gray')\n",
    "plt.show()"
   ]
  },
  {
   "cell_type": "code",
   "execution_count": null,
   "metadata": {},
   "outputs": [],
   "source": []
  },
  {
   "cell_type": "code",
   "execution_count": null,
   "metadata": {},
   "outputs": [],
   "source": []
  }
 ],
 "metadata": {
  "kernelspec": {
   "display_name": "Python 3",
   "language": "python",
   "name": "python3"
  },
  "language_info": {
   "codemirror_mode": {
    "name": "ipython",
    "version": 3
   },
   "file_extension": ".py",
   "mimetype": "text/x-python",
   "name": "python",
   "nbconvert_exporter": "python",
   "pygments_lexer": "ipython3",
   "version": "3.6.5"
  }
 },
 "nbformat": 4,
 "nbformat_minor": 2
}
